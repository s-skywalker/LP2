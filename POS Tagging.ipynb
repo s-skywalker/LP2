{
 "cells": [
  {
   "cell_type": "code",
   "execution_count": 1,
   "id": "66e7a9d4",
   "metadata": {},
   "outputs": [
    {
     "name": "stderr",
     "output_type": "stream",
     "text": [
      "[nltk_data] Downloading package punkt to C:\\Users\\Smit\n",
      "[nltk_data]     Joshi\\AppData\\Roaming\\nltk_data...\n",
      "[nltk_data]   Package punkt is already up-to-date!\n",
      "[nltk_data] Downloading package averaged_perceptron_tagger to\n",
      "[nltk_data]     C:\\Users\\Smit Joshi\\AppData\\Roaming\\nltk_data...\n",
      "[nltk_data]   Package averaged_perceptron_tagger is already up-to-\n",
      "[nltk_data]       date!\n",
      "[nltk_data] Downloading package stopwords to C:\\Users\\Smit\n",
      "[nltk_data]     Joshi\\AppData\\Roaming\\nltk_data...\n",
      "[nltk_data]   Package stopwords is already up-to-date!\n"
     ]
    }
   ],
   "source": [
    "import nltk \n",
    "nltk.download('punkt')\n",
    "nltk.download('averaged_perceptron_tagger')\n",
    "nltk.download('stopwords')\n",
    "\n",
    "from nltk import sent_tokenize\n",
    "from nltk import word_tokenize \n",
    "from nltk.corpus import stopwords\n",
    "\n",
    "from nltk.stem import PorterStemmer \n",
    "from nltk.stem.snowball import SnowballStemmer \n",
    "from nltk.stem import LancasterStemmer"
   ]
  },
  {
   "cell_type": "code",
   "execution_count": 2,
   "id": "16b384bc",
   "metadata": {},
   "outputs": [],
   "source": [
    "text = \"In a galaxy far, far away, a great conflict rages between the forces of light and darkness. The Jedi, guardians of peace and justice, face off against the Sith, masters of the dark side of the Force.\""
   ]
  },
  {
   "cell_type": "code",
   "execution_count": 3,
   "id": "3e1738cf",
   "metadata": {},
   "outputs": [
    {
     "name": "stdout",
     "output_type": "stream",
     "text": [
      "['In a galaxy far, far away, a great conflict rages between the forces of light and darkness.', 'The Jedi, guardians of peace and justice, face off against the Sith, masters of the dark side of the Force.']\n"
     ]
    }
   ],
   "source": [
    "tokens_sent = nltk.sent_tokenize(text)\n",
    "print(tokens_sent)"
   ]
  },
  {
   "cell_type": "code",
   "execution_count": 4,
   "id": "2bbba716",
   "metadata": {},
   "outputs": [
    {
     "name": "stdout",
     "output_type": "stream",
     "text": [
      "['In', 'a', 'galaxy', 'far', ',', 'far', 'away', ',', 'a', 'great', 'conflict', 'rages', 'between', 'the', 'forces', 'of', 'light', 'and', 'darkness', '.', 'The', 'Jedi', ',', 'guardians', 'of', 'peace', 'and', 'justice', ',', 'face', 'off', 'against', 'the', 'Sith', ',', 'masters', 'of', 'the', 'dark', 'side', 'of', 'the', 'Force', '.']\n"
     ]
    }
   ],
   "source": [
    "token_words = nltk.word_tokenize(text)\n",
    "print(token_words)"
   ]
  },
  {
   "cell_type": "code",
   "execution_count": 5,
   "id": "f08a0432",
   "metadata": {},
   "outputs": [
    {
     "name": "stdout",
     "output_type": "stream",
     "text": [
      "['in', 'a', 'galaxi', 'far', ',', 'far', 'away', ',', 'a', 'great', 'conflict', 'rage', 'between', 'the', 'forc', 'of', 'light', 'and', 'dark', '.', 'the', 'jedi', ',', 'guardian', 'of', 'peac', 'and', 'justic', ',', 'face', 'off', 'against', 'the', 'sith', ',', 'master', 'of', 'the', 'dark', 'side', 'of', 'the', 'forc', '.']\n"
     ]
    }
   ],
   "source": [
    "stem = []\n",
    "for i in token_words:\n",
    "    ps = PorterStemmer()\n",
    "    stem_words = ps.stem(i)\n",
    "    stem.append(stem_words)\n",
    "print(stem)"
   ]
  },
  {
   "cell_type": "code",
   "execution_count": 6,
   "id": "5f570a2d",
   "metadata": {},
   "outputs": [
    {
     "name": "stderr",
     "output_type": "stream",
     "text": [
      "[nltk_data] Downloading package omw-1.4 to C:\\Users\\Smit\n",
      "[nltk_data]     Joshi\\AppData\\Roaming\\nltk_data...\n",
      "[nltk_data]   Package omw-1.4 is already up-to-date!\n"
     ]
    }
   ],
   "source": [
    "nltk.download('omw-1.4')\n",
    "from nltk.stem import WordNetLemmatizer\n",
    "lemmatizer = WordNetLemmatizer()"
   ]
  },
  {
   "cell_type": "code",
   "execution_count": 7,
   "id": "b5d6e000",
   "metadata": {},
   "outputs": [
    {
     "name": "stdout",
     "output_type": "stream",
     "text": [
      "in a galaxi far , far away , a great conflict rage between the forc of light and dark . the jedi , guardian of peac and justic , face off against the sith , master of the dark side of the forc .\n"
     ]
    }
   ],
   "source": [
    "lemmatized_output = ' '.join([lemmatizer.lemmatize(w) for w in stem])\n",
    "print(lemmatized_output)"
   ]
  },
  {
   "cell_type": "code",
   "execution_count": 8,
   "id": "eb98aa50",
   "metadata": {},
   "outputs": [
    {
     "name": "stdout",
     "output_type": "stream",
     "text": [
      "['in', 'a', 'galaxi', 'far', ',', 'far', 'away', ',', 'a', 'great', 'conflict', 'rage', 'between', 'the', 'forc', 'of', 'light', 'and', 'dark', '.', 'the', 'jedi', ',', 'guardian', 'of', 'peac', 'and', 'justic', ',', 'face', 'off', 'against', 'the', 'sith', ',', 'master', 'of', 'the', 'dark', 'side', 'of', 'the', 'forc', '.']\n"
     ]
    }
   ],
   "source": [
    "leme = []\n",
    "for i in stem:\n",
    "    lemmatized_words = lemmatizer.lemmatize(i)\n",
    "    leme.append(lemmatized_words)\n",
    "print(leme)"
   ]
  },
  {
   "cell_type": "code",
   "execution_count": 9,
   "id": "d53cd256",
   "metadata": {},
   "outputs": [
    {
     "name": "stdout",
     "output_type": "stream",
     "text": [
      "POS:  [('in', 'IN'), ('a', 'DT'), ('galaxi', 'NN'), ('far', 'RB'), (',', ','), ('far', 'RB'), ('away', 'RB'), (',', ','), ('a', 'DT'), ('great', 'JJ'), ('conflict', 'NN'), ('rage', 'NN'), ('between', 'IN'), ('the', 'DT'), ('forc', 'NN'), ('of', 'IN'), ('light', 'JJ'), ('and', 'CC'), ('dark', 'JJ'), ('.', '.'), ('the', 'DT'), ('jedi', 'NN'), (',', ','), ('guardian', 'NN'), ('of', 'IN'), ('peac', 'NN'), ('and', 'CC'), ('justic', 'JJ'), (',', ','), ('face', 'VB'), ('off', 'RP'), ('against', 'IN'), ('the', 'DT'), ('sith', 'NN'), (',', ','), ('master', 'NN'), ('of', 'IN'), ('the', 'DT'), ('dark', 'JJ'), ('side', 'NN'), ('of', 'IN'), ('the', 'DT'), ('forc', 'NN'), ('.', '.')]\n"
     ]
    }
   ],
   "source": [
    "print(\"POS: \", nltk.pos_tag(leme))"
   ]
  },
  {
   "cell_type": "code",
   "execution_count": 10,
   "id": "aed159d6",
   "metadata": {},
   "outputs": [
    {
     "name": "stdout",
     "output_type": "stream",
     "text": [
      "['i', 'me', 'my', 'myself', 'we', 'our', 'ours', 'ourselves', 'you', \"you're\", \"you've\", \"you'll\", \"you'd\", 'your', 'yours', 'yourself', 'yourselves', 'he', 'him', 'his', 'himself', 'she', \"she's\", 'her', 'hers', 'herself', 'it', \"it's\", 'its', 'itself', 'they', 'them', 'their', 'theirs', 'themselves', 'what', 'which', 'who', 'whom', 'this', 'that', \"that'll\", 'these', 'those', 'am', 'is', 'are', 'was', 'were', 'be', 'been', 'being', 'have', 'has', 'had', 'having', 'do', 'does', 'did', 'doing', 'a', 'an', 'the', 'and', 'but', 'if', 'or', 'because', 'as', 'until', 'while', 'of', 'at', 'by', 'for', 'with', 'about', 'against', 'between', 'into', 'through', 'during', 'before', 'after', 'above', 'below', 'to', 'from', 'up', 'down', 'in', 'out', 'on', 'off', 'over', 'under', 'again', 'further', 'then', 'once', 'here', 'there', 'when', 'where', 'why', 'how', 'all', 'any', 'both', 'each', 'few', 'more', 'most', 'other', 'some', 'such', 'no', 'nor', 'not', 'only', 'own', 'same', 'so', 'than', 'too', 'very', 's', 't', 'can', 'will', 'just', 'don', \"don't\", 'should', \"should've\", 'now', 'd', 'll', 'm', 'o', 're', 've', 'y', 'ain', 'aren', \"aren't\", 'couldn', \"couldn't\", 'didn', \"didn't\", 'doesn', \"doesn't\", 'hadn', \"hadn't\", 'hasn', \"hasn't\", 'haven', \"haven't\", 'isn', \"isn't\", 'ma', 'mightn', \"mightn't\", 'mustn', \"mustn't\", 'needn', \"needn't\", 'shan', \"shan't\", 'shouldn', \"shouldn't\", 'wasn', \"wasn't\", 'weren', \"weren't\", 'won', \"won't\", 'wouldn', \"wouldn't\"]\n"
     ]
    }
   ],
   "source": [
    "sw_nltk = stopwords.words('english')\n",
    "print(sw_nltk)"
   ]
  },
  {
   "cell_type": "code",
   "execution_count": 11,
   "id": "e89df5f0",
   "metadata": {},
   "outputs": [
    {
     "name": "stdout",
     "output_type": "stream",
     "text": [
      "galaxy far, far away, great conflict rages forces light darkness. Jedi, guardians peace justice, face Sith, masters dark side Force.\n"
     ]
    }
   ],
   "source": [
    "words = [word for word in text.split() if word.lower() not in sw_nltk]\n",
    "new_text = \" \".join(words)\n",
    "print(new_text)"
   ]
  },
  {
   "cell_type": "code",
   "execution_count": 12,
   "id": "16fdb60d",
   "metadata": {},
   "outputs": [],
   "source": [
    "from sklearn.feature_extraction.text import TfidfVectorizer"
   ]
  },
  {
   "cell_type": "code",
   "execution_count": 13,
   "id": "c47cb468",
   "metadata": {},
   "outputs": [],
   "source": [
    "preprocessed_text = lemmatized_output \n",
    "documents = [preprocessed_text]"
   ]
  },
  {
   "cell_type": "code",
   "execution_count": 14,
   "id": "4af3a992",
   "metadata": {},
   "outputs": [],
   "source": [
    "tfidf_vectorizer = TfidfVectorizer()\n",
    "tfidf_matrix = tfidf_vectorizer.fit_transform(documents)"
   ]
  },
  {
   "cell_type": "code",
   "execution_count": 15,
   "id": "0593ee8b",
   "metadata": {},
   "outputs": [],
   "source": [
    "terms = tfidf_vectorizer.get_feature_names_out()"
   ]
  },
  {
   "cell_type": "code",
   "execution_count": 16,
   "id": "cd3302fe",
   "metadata": {},
   "outputs": [
    {
     "name": "stdout",
     "output_type": "stream",
     "text": [
      "TF-IDF-Matrix : \n",
      "[[0.11547005 0.23094011 0.11547005 0.11547005 0.11547005 0.23094011\n",
      "  0.11547005 0.23094011 0.23094011 0.11547005 0.11547005 0.11547005\n",
      "  0.11547005 0.11547005 0.11547005 0.11547005 0.11547005 0.46188022\n",
      "  0.11547005 0.11547005 0.11547005 0.11547005 0.11547005 0.57735027]]\n"
     ]
    }
   ],
   "source": [
    "print(\"TF-IDF-Matrix : \")\n",
    "print(tfidf_matrix.toarray())"
   ]
  },
  {
   "cell_type": "code",
   "execution_count": 17,
   "id": "22529ae0",
   "metadata": {},
   "outputs": [
    {
     "name": "stdout",
     "output_type": "stream",
     "text": [
      "\n",
      " Feature Names (Terms):\n",
      "['against' 'and' 'away' 'between' 'conflict' 'dark' 'face' 'far' 'forc'\n",
      " 'galaxi' 'great' 'guardian' 'in' 'jedi' 'justic' 'light' 'master' 'of'\n",
      " 'off' 'peac' 'rage' 'side' 'sith' 'the']\n"
     ]
    }
   ],
   "source": [
    "print(\"\\n Feature Names (Terms):\")\n",
    "print(terms)"
   ]
  },
  {
   "cell_type": "code",
   "execution_count": 18,
   "id": "6ddaa98b",
   "metadata": {
    "scrolled": true
   },
   "outputs": [
    {
     "name": "stdout",
     "output_type": "stream",
     "text": [
      "TF-IDF-Matrix : \n",
      "[[0.11547005 0.23094011 0.11547005 0.11547005 0.11547005 0.23094011\n",
      "  0.11547005 0.23094011 0.23094011 0.11547005 0.11547005 0.11547005\n",
      "  0.11547005 0.11547005 0.11547005 0.11547005 0.11547005 0.46188022\n",
      "  0.11547005 0.11547005 0.11547005 0.11547005 0.11547005 0.57735027]]\n",
      "\n",
      " Feature Names (Terms): \n",
      "['against' 'and' 'away' 'between' 'conflict' 'dark' 'face' 'far' 'forc'\n",
      " 'galaxi' 'great' 'guardian' 'in' 'jedi' 'justic' 'light' 'master' 'of'\n",
      " 'off' 'peac' 'rage' 'side' 'sith' 'the']\n"
     ]
    }
   ],
   "source": [
    "from sklearn.feature_extraction.text import TfidfVectorizer\n",
    "\n",
    "preprocessed_text = lemmatized_output \n",
    "documents = [preprocessed_text]\n",
    "tfidf_vectorizer = TfidfVectorizer()\n",
    "tfidf_matrix = tfidf_vectorizer.fit_transform(documents)\n",
    "\n",
    "terms = tfidf_vectorizer.get_feature_names_out()\n",
    "print(\"TF-IDF-Matrix : \")\n",
    "print(tfidf_matrix.toarray())\n",
    "print(\"\\n Feature Names (Terms): \")\n",
    "print(terms)"
   ]
  }
 ],
 "metadata": {
  "kernelspec": {
   "display_name": "Python 3 (ipykernel)",
   "language": "python",
   "name": "python3"
  },
  "language_info": {
   "codemirror_mode": {
    "name": "ipython",
    "version": 3
   },
   "file_extension": ".py",
   "mimetype": "text/x-python",
   "name": "python",
   "nbconvert_exporter": "python",
   "pygments_lexer": "ipython3",
   "version": "3.10.6"
  }
 },
 "nbformat": 4,
 "nbformat_minor": 5
}
